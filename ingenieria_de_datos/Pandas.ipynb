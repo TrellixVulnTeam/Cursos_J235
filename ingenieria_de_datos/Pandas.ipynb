{
 "cells": [
  {
   "cell_type": "markdown",
   "metadata": {},
   "source": [
    "# Series\n",
    "\n",
    "*Las Series son arreglos unidimensionales pero los tipos de datos ingresados son únicos*"
   ]
  },
  {
   "cell_type": "code",
   "execution_count": 4,
   "metadata": {},
   "outputs": [
    {
     "data": {
      "text/plain": [
       "0    1\n",
       "1    2\n",
       "2    3\n",
       "dtype: int64"
      ]
     },
     "execution_count": 4,
     "metadata": {},
     "output_type": "execute_result"
    }
   ],
   "source": [
    "import pandas as pd \n",
    "\n",
    "serie = pd.Series([1, 2, 3])\n",
    "\n",
    "serie"
   ]
  },
  {
   "cell_type": "markdown",
   "metadata": {},
   "source": [
    "# DataFrames\n",
    "\n",
    "*Los DataFrames son arreglos de Series, prácticamente una matríz*"
   ]
  },
  {
   "cell_type": "markdown",
   "metadata": {},
   "source": [
    "### DataFrame con lista de listas\n",
    "\n",
    "A diferencia de un DataFrame creado por diccionario, con este no podemos definir las llaves\n",
    "pero nos brinda la posibilidad de definir el nombre de columnas y los índices agregandolos como\n",
    "parámetros del inicializador de la clase DataFrame"
   ]
  },
  {
   "cell_type": "code",
   "execution_count": 5,
   "metadata": {},
   "outputs": [
    {
     "data": {
      "text/html": [
       "<div>\n",
       "<style scoped>\n",
       "    .dataframe tbody tr th:only-of-type {\n",
       "        vertical-align: middle;\n",
       "    }\n",
       "\n",
       "    .dataframe tbody tr th {\n",
       "        vertical-align: top;\n",
       "    }\n",
       "\n",
       "    .dataframe thead th {\n",
       "        text-align: right;\n",
       "    }\n",
       "</style>\n",
       "<table border=\"1\" class=\"dataframe\">\n",
       "  <thead>\n",
       "    <tr style=\"text-align: right;\">\n",
       "      <th></th>\n",
       "      <th>2000</th>\n",
       "      <th>2001</th>\n",
       "      <th>2002</th>\n",
       "    </tr>\n",
       "  </thead>\n",
       "  <tbody>\n",
       "    <tr>\n",
       "      <th>Level A</th>\n",
       "      <td>1</td>\n",
       "      <td>2</td>\n",
       "      <td>3</td>\n",
       "    </tr>\n",
       "    <tr>\n",
       "      <th>Level B</th>\n",
       "      <td>4</td>\n",
       "      <td>5</td>\n",
       "      <td>6</td>\n",
       "    </tr>\n",
       "    <tr>\n",
       "      <th>Level C</th>\n",
       "      <td>7</td>\n",
       "      <td>8</td>\n",
       "      <td>9</td>\n",
       "    </tr>\n",
       "  </tbody>\n",
       "</table>\n",
       "</div>"
      ],
      "text/plain": [
       "         2000  2001  2002\n",
       "Level A     1     2     3\n",
       "Level B     4     5     6\n",
       "Level C     7     8     9"
      ]
     },
     "execution_count": 5,
     "metadata": {},
     "output_type": "execute_result"
    }
   ],
   "source": [
    "df_1= pd.DataFrame([[1, 2, 3],\n",
    "                                    [4, 5, 6],\n",
    "                                    [7, 8, 9]],\n",
    "                                    columns = [2000, 2001, 2002],\n",
    "                                    index = ['Level A', 'Level B', 'Level C'])\n",
    "\n",
    "df_1"
   ]
  },
  {
   "cell_type": "markdown",
   "metadata": {},
   "source": [
    "### DataFrame con diccionarios\n",
    "\n",
    "Definir un DataFrame con un diccionario es más simple pero aún no se pueden definir\n",
    "los índices de forma directa. Para definir los índices pasamos un parámetro **index** \n",
    "con la lista de nombres de índice"
   ]
  },
  {
   "cell_type": "code",
   "execution_count": 6,
   "metadata": {},
   "outputs": [
    {
     "data": {
      "text/html": [
       "<div>\n",
       "<style scoped>\n",
       "    .dataframe tbody tr th:only-of-type {\n",
       "        vertical-align: middle;\n",
       "    }\n",
       "\n",
       "    .dataframe tbody tr th {\n",
       "        vertical-align: top;\n",
       "    }\n",
       "\n",
       "    .dataframe thead th {\n",
       "        text-align: right;\n",
       "    }\n",
       "</style>\n",
       "<table border=\"1\" class=\"dataframe\">\n",
       "  <thead>\n",
       "    <tr style=\"text-align: right;\">\n",
       "      <th></th>\n",
       "      <th>2020</th>\n",
       "      <th>2021</th>\n",
       "      <th>2022</th>\n",
       "    </tr>\n",
       "  </thead>\n",
       "  <tbody>\n",
       "    <tr>\n",
       "      <th>January</th>\n",
       "      <td>100</td>\n",
       "      <td>5585</td>\n",
       "      <td>569</td>\n",
       "    </tr>\n",
       "    <tr>\n",
       "      <th>February</th>\n",
       "      <td>5410</td>\n",
       "      <td>6654</td>\n",
       "      <td>5554</td>\n",
       "    </tr>\n",
       "    <tr>\n",
       "      <th>March</th>\n",
       "      <td>6630</td>\n",
       "      <td>8715</td>\n",
       "      <td>8123</td>\n",
       "    </tr>\n",
       "  </tbody>\n",
       "</table>\n",
       "</div>"
      ],
      "text/plain": [
       "          2020  2021  2022\n",
       "January    100  5585   569\n",
       "February  5410  6654  5554\n",
       "March     6630  8715  8123"
      ]
     },
     "execution_count": 6,
     "metadata": {},
     "output_type": "execute_result"
    }
   ],
   "source": [
    "df_2 = pd.DataFrame({2020: [100, 5410, 6630], \n",
    "                                     2021: [5585, 6654, 8715], \n",
    "                                     2022: [569, 5554, 8123]},\n",
    "                                   index = ['January', 'February', 'March'])\n",
    "\n",
    "df_2"
   ]
  },
  {
   "cell_type": "markdown",
   "metadata": {},
   "source": [
    "# Reading Data\n",
    "\n",
    "*Lectura de un DataSet con Pandas"
   ]
  },
  {
   "cell_type": "code",
   "execution_count": 7,
   "metadata": {},
   "outputs": [
    {
     "data": {
      "text/html": [
       "<div>\n",
       "<style scoped>\n",
       "    .dataframe tbody tr th:only-of-type {\n",
       "        vertical-align: middle;\n",
       "    }\n",
       "\n",
       "    .dataframe tbody tr th {\n",
       "        vertical-align: top;\n",
       "    }\n",
       "\n",
       "    .dataframe thead th {\n",
       "        text-align: right;\n",
       "    }\n",
       "</style>\n",
       "<table border=\"1\" class=\"dataframe\">\n",
       "  <thead>\n",
       "    <tr style=\"text-align: right;\">\n",
       "      <th></th>\n",
       "      <th>publish_date</th>\n",
       "      <th>headline_text</th>\n",
       "    </tr>\n",
       "  </thead>\n",
       "  <tbody>\n",
       "    <tr>\n",
       "      <th>0</th>\n",
       "      <td>20030219</td>\n",
       "      <td>aba decides against community broadcasting lic...</td>\n",
       "    </tr>\n",
       "    <tr>\n",
       "      <th>1</th>\n",
       "      <td>20030219</td>\n",
       "      <td>act fire witnesses must be aware of defamation</td>\n",
       "    </tr>\n",
       "    <tr>\n",
       "      <th>2</th>\n",
       "      <td>20030219</td>\n",
       "      <td>a g calls for infrastructure protection summit</td>\n",
       "    </tr>\n",
       "    <tr>\n",
       "      <th>3</th>\n",
       "      <td>20030219</td>\n",
       "      <td>air nz staff in aust strike for pay rise</td>\n",
       "    </tr>\n",
       "    <tr>\n",
       "      <th>4</th>\n",
       "      <td>20030219</td>\n",
       "      <td>air nz strike to affect australian travellers</td>\n",
       "    </tr>\n",
       "    <tr>\n",
       "      <th>...</th>\n",
       "      <td>...</td>\n",
       "      <td>...</td>\n",
       "    </tr>\n",
       "    <tr>\n",
       "      <th>94</th>\n",
       "      <td>20030219</td>\n",
       "      <td>mayor warns landfill protesters</td>\n",
       "    </tr>\n",
       "    <tr>\n",
       "      <th>95</th>\n",
       "      <td>20030219</td>\n",
       "      <td>meeting to consider tick clearance costs</td>\n",
       "    </tr>\n",
       "    <tr>\n",
       "      <th>96</th>\n",
       "      <td>20030219</td>\n",
       "      <td>meeting to focus on broken hill water woes</td>\n",
       "    </tr>\n",
       "    <tr>\n",
       "      <th>97</th>\n",
       "      <td>20030219</td>\n",
       "      <td>moderate lift in wages growth</td>\n",
       "    </tr>\n",
       "    <tr>\n",
       "      <th>98</th>\n",
       "      <td>20030219</td>\n",
       "      <td>more than 40 pc of young men drink alcohol at</td>\n",
       "    </tr>\n",
       "  </tbody>\n",
       "</table>\n",
       "<p>99 rows × 2 columns</p>\n",
       "</div>"
      ],
      "text/plain": [
       "    publish_date                                      headline_text\n",
       "0       20030219  aba decides against community broadcasting lic...\n",
       "1       20030219     act fire witnesses must be aware of defamation\n",
       "2       20030219     a g calls for infrastructure protection summit\n",
       "3       20030219           air nz staff in aust strike for pay rise\n",
       "4       20030219      air nz strike to affect australian travellers\n",
       "..           ...                                                ...\n",
       "94      20030219                    mayor warns landfill protesters\n",
       "95      20030219           meeting to consider tick clearance costs\n",
       "96      20030219         meeting to focus on broken hill water woes\n",
       "97      20030219                      moderate lift in wages growth\n",
       "98      20030219      more than 40 pc of young men drink alcohol at\n",
       "\n",
       "[99 rows x 2 columns]"
      ]
     },
     "execution_count": 7,
     "metadata": {},
     "output_type": "execute_result"
    }
   ],
   "source": [
    "#Esta opción sirve para seleccionar cuantas rows mostrar\n",
    "pd.options.display.max_rows = 15\n",
    "\n",
    "abc_news = pd.read_csv('abc_news.csv')\n",
    "\n",
    "abc_news\n",
    "\n",
    "#Muestran los primeros y últimos datos respectivamente\n",
    "#abc_news.head()\n",
    "#abc_news.tail()"
   ]
  },
  {
   "cell_type": "markdown",
   "metadata": {},
   "source": [
    "# Index and selection"
   ]
  },
  {
   "cell_type": "markdown",
   "metadata": {},
   "source": [
    "### Dictionary like\n",
    "\n",
    "*Since my DataSet has two columns the output of this selection is not a DataFrame*"
   ]
  },
  {
   "cell_type": "code",
   "execution_count": 14,
   "metadata": {},
   "outputs": [
    {
     "data": {
      "text/plain": [
       "0     20030219\n",
       "1     20030219\n",
       "2     20030219\n",
       "3     20030219\n",
       "4     20030219\n",
       "        ...   \n",
       "94    20030219\n",
       "95    20030219\n",
       "96    20030219\n",
       "97    20030219\n",
       "98    20030219\n",
       "Name: publish_date, Length: 99, dtype: int64"
      ]
     },
     "execution_count": 14,
     "metadata": {},
     "output_type": "execute_result"
    }
   ],
   "source": [
    "abc_news['publish_date']"
   ]
  },
  {
   "cell_type": "markdown",
   "metadata": {},
   "source": [
    "### NumPy like\n",
    "\n",
    "*In this example we are selecting from row 10 to row 14*"
   ]
  },
  {
   "cell_type": "code",
   "execution_count": 15,
   "metadata": {},
   "outputs": [
    {
     "data": {
      "text/html": [
       "<div>\n",
       "<style scoped>\n",
       "    .dataframe tbody tr th:only-of-type {\n",
       "        vertical-align: middle;\n",
       "    }\n",
       "\n",
       "    .dataframe tbody tr th {\n",
       "        vertical-align: top;\n",
       "    }\n",
       "\n",
       "    .dataframe thead th {\n",
       "        text-align: right;\n",
       "    }\n",
       "</style>\n",
       "<table border=\"1\" class=\"dataframe\">\n",
       "  <thead>\n",
       "    <tr style=\"text-align: right;\">\n",
       "      <th></th>\n",
       "      <th>publish_date</th>\n",
       "      <th>headline_text</th>\n",
       "    </tr>\n",
       "  </thead>\n",
       "  <tbody>\n",
       "    <tr>\n",
       "      <th>10</th>\n",
       "      <td>20030219</td>\n",
       "      <td>australia to contribute 10 million in aid to iraq</td>\n",
       "    </tr>\n",
       "    <tr>\n",
       "      <th>11</th>\n",
       "      <td>20030219</td>\n",
       "      <td>barca take record as robson celebrates birthda...</td>\n",
       "    </tr>\n",
       "    <tr>\n",
       "      <th>12</th>\n",
       "      <td>20030219</td>\n",
       "      <td>bathhouse plans move ahead</td>\n",
       "    </tr>\n",
       "    <tr>\n",
       "      <th>13</th>\n",
       "      <td>20030219</td>\n",
       "      <td>big hopes for launceston cycling championship</td>\n",
       "    </tr>\n",
       "    <tr>\n",
       "      <th>14</th>\n",
       "      <td>20030219</td>\n",
       "      <td>big plan to boost paroo water supplies</td>\n",
       "    </tr>\n",
       "  </tbody>\n",
       "</table>\n",
       "</div>"
      ],
      "text/plain": [
       "    publish_date                                      headline_text\n",
       "10      20030219  australia to contribute 10 million in aid to iraq\n",
       "11      20030219  barca take record as robson celebrates birthda...\n",
       "12      20030219                         bathhouse plans move ahead\n",
       "13      20030219      big hopes for launceston cycling championship\n",
       "14      20030219             big plan to boost paroo water supplies"
      ]
     },
     "execution_count": 15,
     "metadata": {},
     "output_type": "execute_result"
    }
   ],
   "source": [
    "abc_news.iloc[10:15]"
   ]
  },
  {
   "cell_type": "code",
   "execution_count": 17,
   "metadata": {},
   "outputs": [
    {
     "data": {
      "text/plain": [
       "'blizzard buries united states in bills'"
      ]
     },
     "execution_count": 17,
     "metadata": {},
     "output_type": "execute_result"
    }
   ],
   "source": [
    "abc_news.iloc[15]['headline_text']"
   ]
  },
  {
   "cell_type": "code",
   "execution_count": 16,
   "metadata": {},
   "outputs": [
    {
     "data": {
      "text/plain": [
       "0    20030219\n",
       "1    20030219\n",
       "2    20030219\n",
       "3    20030219\n",
       "4    20030219\n",
       "Name: publish_date, dtype: int64"
      ]
     },
     "execution_count": 16,
     "metadata": {},
     "output_type": "execute_result"
    }
   ],
   "source": [
    "abc_news.iloc[:5, 0]"
   ]
  },
  {
   "cell_type": "markdown",
   "metadata": {},
   "source": [
    "### Label based\n",
    "\n",
    "*Label based is the best way to get info from a DataSet since it is super legible and*\n",
    "*easy to apply. As shown below, the coder can use the names of the columns to*\n",
    "*access them in a direct way and not with number indexes as made with NumPy like selection*"
   ]
  },
  {
   "cell_type": "code",
   "execution_count": 18,
   "metadata": {
    "scrolled": true
   },
   "outputs": [],
   "source": [
    "# abc_news.loc[:, 'publish_date': 'headline_text']"
   ]
  },
  {
   "cell_type": "markdown",
   "metadata": {},
   "source": [
    "# Data Wrangling"
   ]
  },
  {
   "cell_type": "markdown",
   "metadata": {},
   "source": [
    "### 1. Add a column that identifies each row"
   ]
  },
  {
   "cell_type": "code",
   "execution_count": 20,
   "metadata": {},
   "outputs": [
    {
     "data": {
      "text/html": [
       "<div>\n",
       "<style scoped>\n",
       "    .dataframe tbody tr th:only-of-type {\n",
       "        vertical-align: middle;\n",
       "    }\n",
       "\n",
       "    .dataframe tbody tr th {\n",
       "        vertical-align: top;\n",
       "    }\n",
       "\n",
       "    .dataframe thead th {\n",
       "        text-align: right;\n",
       "    }\n",
       "</style>\n",
       "<table border=\"1\" class=\"dataframe\">\n",
       "  <thead>\n",
       "    <tr style=\"text-align: right;\">\n",
       "      <th></th>\n",
       "      <th>publish_date</th>\n",
       "      <th>headline_text</th>\n",
       "      <th>uid</th>\n",
       "    </tr>\n",
       "  </thead>\n",
       "  <tbody>\n",
       "    <tr>\n",
       "      <th>0</th>\n",
       "      <td>20030219</td>\n",
       "      <td>aba decides against community broadcasting lic...</td>\n",
       "      <td>ABC Australia</td>\n",
       "    </tr>\n",
       "    <tr>\n",
       "      <th>1</th>\n",
       "      <td>20030219</td>\n",
       "      <td>act fire witnesses must be aware of defamation</td>\n",
       "      <td>ABC Australia</td>\n",
       "    </tr>\n",
       "    <tr>\n",
       "      <th>2</th>\n",
       "      <td>20030219</td>\n",
       "      <td>a g calls for infrastructure protection summit</td>\n",
       "      <td>ABC Australia</td>\n",
       "    </tr>\n",
       "    <tr>\n",
       "      <th>3</th>\n",
       "      <td>20030219</td>\n",
       "      <td>air nz staff in aust strike for pay rise</td>\n",
       "      <td>ABC Australia</td>\n",
       "    </tr>\n",
       "    <tr>\n",
       "      <th>4</th>\n",
       "      <td>20030219</td>\n",
       "      <td>air nz strike to affect australian travellers</td>\n",
       "      <td>ABC Australia</td>\n",
       "    </tr>\n",
       "    <tr>\n",
       "      <th>...</th>\n",
       "      <td>...</td>\n",
       "      <td>...</td>\n",
       "      <td>...</td>\n",
       "    </tr>\n",
       "    <tr>\n",
       "      <th>94</th>\n",
       "      <td>20030219</td>\n",
       "      <td>mayor warns landfill protesters</td>\n",
       "      <td>ABC Australia</td>\n",
       "    </tr>\n",
       "    <tr>\n",
       "      <th>95</th>\n",
       "      <td>20030219</td>\n",
       "      <td>meeting to consider tick clearance costs</td>\n",
       "      <td>ABC Australia</td>\n",
       "    </tr>\n",
       "    <tr>\n",
       "      <th>96</th>\n",
       "      <td>20030219</td>\n",
       "      <td>meeting to focus on broken hill water woes</td>\n",
       "      <td>ABC Australia</td>\n",
       "    </tr>\n",
       "    <tr>\n",
       "      <th>97</th>\n",
       "      <td>20030219</td>\n",
       "      <td>moderate lift in wages growth</td>\n",
       "      <td>ABC Australia</td>\n",
       "    </tr>\n",
       "    <tr>\n",
       "      <th>98</th>\n",
       "      <td>20030219</td>\n",
       "      <td>more than 40 pc of young men drink alcohol at</td>\n",
       "      <td>ABC Australia</td>\n",
       "    </tr>\n",
       "  </tbody>\n",
       "</table>\n",
       "<p>99 rows × 3 columns</p>\n",
       "</div>"
      ],
      "text/plain": [
       "    publish_date                                      headline_text  \\\n",
       "0       20030219  aba decides against community broadcasting lic...   \n",
       "1       20030219     act fire witnesses must be aware of defamation   \n",
       "2       20030219     a g calls for infrastructure protection summit   \n",
       "3       20030219           air nz staff in aust strike for pay rise   \n",
       "4       20030219      air nz strike to affect australian travellers   \n",
       "..           ...                                                ...   \n",
       "94      20030219                    mayor warns landfill protesters   \n",
       "95      20030219           meeting to consider tick clearance costs   \n",
       "96      20030219         meeting to focus on broken hill water woes   \n",
       "97      20030219                      moderate lift in wages growth   \n",
       "98      20030219      more than 40 pc of young men drink alcohol at   \n",
       "\n",
       "              uid  \n",
       "0   ABC Australia  \n",
       "1   ABC Australia  \n",
       "2   ABC Australia  \n",
       "3   ABC Australia  \n",
       "4   ABC Australia  \n",
       "..            ...  \n",
       "94  ABC Australia  \n",
       "95  ABC Australia  \n",
       "96  ABC Australia  \n",
       "97  ABC Australia  \n",
       "98  ABC Australia  \n",
       "\n",
       "[99 rows x 3 columns]"
      ]
     },
     "execution_count": 20,
     "metadata": {},
     "output_type": "execute_result"
    }
   ],
   "source": [
    "abc_news['uid'] = 'ABC Australia'\n",
    "\n",
    "abc_news"
   ]
  },
  {
   "cell_type": "markdown",
   "metadata": {},
   "source": [
    "# Additional cleanup"
   ]
  },
  {
   "cell_type": "markdown",
   "metadata": {},
   "source": [
    "### 1. Add a unique uid for each article"
   ]
  },
  {
   "cell_type": "code",
   "execution_count": 23,
   "metadata": {},
   "outputs": [
    {
     "data": {
      "text/html": [
       "<div>\n",
       "<style scoped>\n",
       "    .dataframe tbody tr th:only-of-type {\n",
       "        vertical-align: middle;\n",
       "    }\n",
       "\n",
       "    .dataframe tbody tr th {\n",
       "        vertical-align: top;\n",
       "    }\n",
       "\n",
       "    .dataframe thead th {\n",
       "        text-align: right;\n",
       "    }\n",
       "</style>\n",
       "<table border=\"1\" class=\"dataframe\">\n",
       "  <thead>\n",
       "    <tr style=\"text-align: right;\">\n",
       "      <th></th>\n",
       "      <th>publish_date</th>\n",
       "      <th>headline_text</th>\n",
       "    </tr>\n",
       "    <tr>\n",
       "      <th>uid</th>\n",
       "      <th></th>\n",
       "      <th></th>\n",
       "    </tr>\n",
       "  </thead>\n",
       "  <tbody>\n",
       "    <tr>\n",
       "      <th>46c9d3509b24e0900d23c6f1d6a2808e</th>\n",
       "      <td>20030219</td>\n",
       "      <td>aba decides against community broadcasting lic...</td>\n",
       "    </tr>\n",
       "    <tr>\n",
       "      <th>7df0205cf79968bff5055d4746e06ccb</th>\n",
       "      <td>20030219</td>\n",
       "      <td>act fire witnesses must be aware of defamation</td>\n",
       "    </tr>\n",
       "    <tr>\n",
       "      <th>4d5b7fd2fd72c7fbb5508ec6da59f34d</th>\n",
       "      <td>20030219</td>\n",
       "      <td>a g calls for infrastructure protection summit</td>\n",
       "    </tr>\n",
       "    <tr>\n",
       "      <th>f6c67d2f6df969c1786b8034bb420d62</th>\n",
       "      <td>20030219</td>\n",
       "      <td>air nz staff in aust strike for pay rise</td>\n",
       "    </tr>\n",
       "    <tr>\n",
       "      <th>c3c0e31e9f37a0f0db23b9944d28d967</th>\n",
       "      <td>20030219</td>\n",
       "      <td>air nz strike to affect australian travellers</td>\n",
       "    </tr>\n",
       "    <tr>\n",
       "      <th>...</th>\n",
       "      <td>...</td>\n",
       "      <td>...</td>\n",
       "    </tr>\n",
       "    <tr>\n",
       "      <th>755f52a3db4ee713d9aae5c36f292043</th>\n",
       "      <td>20030219</td>\n",
       "      <td>mayor warns landfill protesters</td>\n",
       "    </tr>\n",
       "    <tr>\n",
       "      <th>9c391bf7c75effe7df478e5aa4f2cef7</th>\n",
       "      <td>20030219</td>\n",
       "      <td>meeting to consider tick clearance costs</td>\n",
       "    </tr>\n",
       "    <tr>\n",
       "      <th>d091eb9e7c9550854c5135bc9a3566fe</th>\n",
       "      <td>20030219</td>\n",
       "      <td>meeting to focus on broken hill water woes</td>\n",
       "    </tr>\n",
       "    <tr>\n",
       "      <th>f315b7aee26d2ec92162525af9b48cb0</th>\n",
       "      <td>20030219</td>\n",
       "      <td>moderate lift in wages growth</td>\n",
       "    </tr>\n",
       "    <tr>\n",
       "      <th>047a4aa43b551dae1682a580496b2f9a</th>\n",
       "      <td>20030219</td>\n",
       "      <td>more than 40 pc of young men drink alcohol at</td>\n",
       "    </tr>\n",
       "  </tbody>\n",
       "</table>\n",
       "<p>99 rows × 2 columns</p>\n",
       "</div>"
      ],
      "text/plain": [
       "                                  publish_date  \\\n",
       "uid                                              \n",
       "46c9d3509b24e0900d23c6f1d6a2808e      20030219   \n",
       "7df0205cf79968bff5055d4746e06ccb      20030219   \n",
       "4d5b7fd2fd72c7fbb5508ec6da59f34d      20030219   \n",
       "f6c67d2f6df969c1786b8034bb420d62      20030219   \n",
       "c3c0e31e9f37a0f0db23b9944d28d967      20030219   \n",
       "...                                        ...   \n",
       "755f52a3db4ee713d9aae5c36f292043      20030219   \n",
       "9c391bf7c75effe7df478e5aa4f2cef7      20030219   \n",
       "d091eb9e7c9550854c5135bc9a3566fe      20030219   \n",
       "f315b7aee26d2ec92162525af9b48cb0      20030219   \n",
       "047a4aa43b551dae1682a580496b2f9a      20030219   \n",
       "\n",
       "                                                                      headline_text  \n",
       "uid                                                                                  \n",
       "46c9d3509b24e0900d23c6f1d6a2808e  aba decides against community broadcasting lic...  \n",
       "7df0205cf79968bff5055d4746e06ccb     act fire witnesses must be aware of defamation  \n",
       "4d5b7fd2fd72c7fbb5508ec6da59f34d     a g calls for infrastructure protection summit  \n",
       "f6c67d2f6df969c1786b8034bb420d62           air nz staff in aust strike for pay rise  \n",
       "c3c0e31e9f37a0f0db23b9944d28d967      air nz strike to affect australian travellers  \n",
       "...                                                                             ...  \n",
       "755f52a3db4ee713d9aae5c36f292043                    mayor warns landfill protesters  \n",
       "9c391bf7c75effe7df478e5aa4f2cef7           meeting to consider tick clearance costs  \n",
       "d091eb9e7c9550854c5135bc9a3566fe         meeting to focus on broken hill water woes  \n",
       "f315b7aee26d2ec92162525af9b48cb0                      moderate lift in wages growth  \n",
       "047a4aa43b551dae1682a580496b2f9a      more than 40 pc of young men drink alcohol at  \n",
       "\n",
       "[99 rows x 2 columns]"
      ]
     },
     "execution_count": 23,
     "metadata": {},
     "output_type": "execute_result"
    }
   ],
   "source": [
    "import hashlib \n",
    "\n",
    "#Remember:\n",
    "#axis = 0 columns\n",
    "#axis = 1 rows\n",
    "uids = (abc_news.apply(lambda row: hashlib.md5(row['headline_text'].encode()), axis = 1)\n",
    "                .apply(lambda hash_object: hash_object.hexdigest())\n",
    "           )\n",
    "\n",
    "abc_news['uid'] = uids \n",
    "abc_news.set_index('uid')"
   ]
  },
  {
   "cell_type": "markdown",
   "metadata": {},
   "source": [
    "### 2. Clean unexpected chars\n",
    "*In my DataFrame there are not unexpected chars but despite this, in several DataFrames there are plenty of them. This is a scope of code with no useful application with this DataFrame but it can be implemented nevertheless*"
   ]
  },
  {
   "cell_type": "code",
   "execution_count": 31,
   "metadata": {},
   "outputs": [],
   "source": [
    "stripped_body = (abc_news\n",
    "                                 .apply(lambda row: row['headline_text'], axis = 1)\n",
    "                                 .apply(lambda headline_text: list(headline_text))\n",
    "                                 .apply(lambda letters: list(map(lambda letter: letter.replace('\\n', ''), letters)))\n",
    "                                 .apply(lambda letters: ''.join(letters))\n",
    "                            )"
   ]
  },
  {
   "cell_type": "markdown",
   "metadata": {},
   "source": [
    "# Data enrichment\n",
    "\n",
    "*This section is meant to tokenize the title of each article. Tokenize means to separate each word of the title*"
   ]
  },
  {
   "cell_type": "code",
   "execution_count": 8,
   "metadata": {},
   "outputs": [
    {
     "name": "stderr",
     "output_type": "stream",
     "text": [
      "[nltk_data] Downloading package punkt to /home/miqueas/nltk_data...\n",
      "[nltk_data]   Package punkt is already up-to-date!\n",
      "[nltk_data] Downloading package stopwords to\n",
      "[nltk_data]     /home/miqueas/nltk_data...\n",
      "[nltk_data]   Package stopwords is already up-to-date!\n"
     ]
    },
    {
     "data": {
      "text/html": [
       "<div>\n",
       "<style scoped>\n",
       "    .dataframe tbody tr th:only-of-type {\n",
       "        vertical-align: middle;\n",
       "    }\n",
       "\n",
       "    .dataframe tbody tr th {\n",
       "        vertical-align: top;\n",
       "    }\n",
       "\n",
       "    .dataframe thead th {\n",
       "        text-align: right;\n",
       "    }\n",
       "</style>\n",
       "<table border=\"1\" class=\"dataframe\">\n",
       "  <thead>\n",
       "    <tr style=\"text-align: right;\">\n",
       "      <th></th>\n",
       "      <th>publish_date</th>\n",
       "      <th>headline_text</th>\n",
       "      <th>n_tokens_title</th>\n",
       "    </tr>\n",
       "  </thead>\n",
       "  <tbody>\n",
       "    <tr>\n",
       "      <th>0</th>\n",
       "      <td>20030219</td>\n",
       "      <td>aba decides against community broadcasting lic...</td>\n",
       "      <td>5</td>\n",
       "    </tr>\n",
       "    <tr>\n",
       "      <th>1</th>\n",
       "      <td>20030219</td>\n",
       "      <td>act fire witnesses must be aware of defamation</td>\n",
       "      <td>6</td>\n",
       "    </tr>\n",
       "    <tr>\n",
       "      <th>2</th>\n",
       "      <td>20030219</td>\n",
       "      <td>a g calls for infrastructure protection summit</td>\n",
       "      <td>5</td>\n",
       "    </tr>\n",
       "    <tr>\n",
       "      <th>3</th>\n",
       "      <td>20030219</td>\n",
       "      <td>air nz staff in aust strike for pay rise</td>\n",
       "      <td>7</td>\n",
       "    </tr>\n",
       "    <tr>\n",
       "      <th>4</th>\n",
       "      <td>20030219</td>\n",
       "      <td>air nz strike to affect australian travellers</td>\n",
       "      <td>6</td>\n",
       "    </tr>\n",
       "    <tr>\n",
       "      <th>...</th>\n",
       "      <td>...</td>\n",
       "      <td>...</td>\n",
       "      <td>...</td>\n",
       "    </tr>\n",
       "    <tr>\n",
       "      <th>94</th>\n",
       "      <td>20030219</td>\n",
       "      <td>mayor warns landfill protesters</td>\n",
       "      <td>4</td>\n",
       "    </tr>\n",
       "    <tr>\n",
       "      <th>95</th>\n",
       "      <td>20030219</td>\n",
       "      <td>meeting to consider tick clearance costs</td>\n",
       "      <td>5</td>\n",
       "    </tr>\n",
       "    <tr>\n",
       "      <th>96</th>\n",
       "      <td>20030219</td>\n",
       "      <td>meeting to focus on broken hill water woes</td>\n",
       "      <td>6</td>\n",
       "    </tr>\n",
       "    <tr>\n",
       "      <th>97</th>\n",
       "      <td>20030219</td>\n",
       "      <td>moderate lift in wages growth</td>\n",
       "      <td>4</td>\n",
       "    </tr>\n",
       "    <tr>\n",
       "      <th>98</th>\n",
       "      <td>20030219</td>\n",
       "      <td>more than 40 pc of young men drink alcohol at</td>\n",
       "      <td>5</td>\n",
       "    </tr>\n",
       "  </tbody>\n",
       "</table>\n",
       "<p>99 rows × 3 columns</p>\n",
       "</div>"
      ],
      "text/plain": [
       "    publish_date                                      headline_text  \\\n",
       "0       20030219  aba decides against community broadcasting lic...   \n",
       "1       20030219     act fire witnesses must be aware of defamation   \n",
       "2       20030219     a g calls for infrastructure protection summit   \n",
       "3       20030219           air nz staff in aust strike for pay rise   \n",
       "4       20030219      air nz strike to affect australian travellers   \n",
       "..           ...                                                ...   \n",
       "94      20030219                    mayor warns landfill protesters   \n",
       "95      20030219           meeting to consider tick clearance costs   \n",
       "96      20030219         meeting to focus on broken hill water woes   \n",
       "97      20030219                      moderate lift in wages growth   \n",
       "98      20030219      more than 40 pc of young men drink alcohol at   \n",
       "\n",
       "    n_tokens_title  \n",
       "0                5  \n",
       "1                6  \n",
       "2                5  \n",
       "3                7  \n",
       "4                6  \n",
       "..             ...  \n",
       "94               4  \n",
       "95               5  \n",
       "96               6  \n",
       "97               4  \n",
       "98               5  \n",
       "\n",
       "[99 rows x 3 columns]"
      ]
     },
     "execution_count": 8,
     "metadata": {},
     "output_type": "execute_result"
    }
   ],
   "source": [
    "import nltk\n",
    "from nltk.corpus import stopwords\n",
    "\n",
    "nltk.download('punkt')\n",
    "nltk.download('stopwords')\n",
    "\n",
    "stop_words = set(stopwords.words('english'))\n",
    "\n",
    "def tokenize_columns(df, column_name):\n",
    "    return (df\n",
    "                    .dropna()\n",
    "                    .apply(lambda row: nltk.word_tokenize(row[column_name]), axis = 1)\n",
    "                    .apply(lambda tokens: list(filter(lambda token: token.isalpha(), tokens)))\n",
    "                    .apply(lambda tokens: list(map(lambda token: token.lower(), tokens)))\n",
    "                    .apply(lambda word_list: list(filter(lambda word: word not in stop_words, word_list)))\n",
    "                    .apply(lambda valid_word_list: len(valid_word_list))\n",
    "                )\n",
    "\n",
    "abc_news['n_tokens_title'] = tokenize_columns(abc_news, 'headline_text')\n",
    "\n",
    "abc_news"
   ]
  }
 ],
 "metadata": {
  "kernelspec": {
   "display_name": "Python 3",
   "language": "python",
   "name": "python3"
  },
  "language_info": {
   "codemirror_mode": {
    "name": "ipython",
    "version": 3
   },
   "file_extension": ".py",
   "mimetype": "text/x-python",
   "name": "python",
   "nbconvert_exporter": "python",
   "pygments_lexer": "ipython3",
   "version": "3.6.9"
  }
 },
 "nbformat": 4,
 "nbformat_minor": 4
}
